{
 "cells": [
  {
   "cell_type": "code",
   "execution_count": null,
   "id": "b9e79173-5f2d-4b30-a802-3e8349bfb115",
   "metadata": {},
   "outputs": [],
   "source": []
  },
  {
   "cell_type": "markdown",
   "id": "20111533-22e1-46e9-b53d-aa73fb4dacef",
   "metadata": {},
   "source": [
    "# Data Science Tools and Ecosystem"
   ]
  },
  {
   "cell_type": "markdown",
   "id": "2b57c31e-7d49-4f1d-a54b-1dc86301f5f4",
   "metadata": {},
   "source": [
    "In this notebook, Data Science Tools and Ecosystem are summarized."
   ]
  },
  {
   "cell_type": "markdown",
   "id": "7860474b-ee1f-47dc-85a2-81f9676d1a46",
   "metadata": {},
   "source": [
    "**Objectives:**\n",
    "- List popular languages for Data Science\n",
    "- List the open-source development environments\n",
    "- Know how to create, run, and delete a cell in Jupiter Notebook\n",
    "- Know how to do machine learning and deep learning"
   ]
  },
  {
   "cell_type": "markdown",
   "id": "60d6ca91-0088-41e8-b077-20b50741c13e",
   "metadata": {},
   "source": [
    "Some of the popular languages that Data Scientists use are:\n",
    "1. Python\n",
    "2. R\n",
    "3. Julia\n",
    "4. Java"
   ]
  },
  {
   "cell_type": "markdown",
   "id": "5fa6ff65-d094-4fb5-b628-026821e3b035",
   "metadata": {},
   "source": [
    "Some of the commonly used libraries used by Data Scientists include:\n",
    "1. Numpy\n",
    "2. Pandas\n",
    "3. Matplotlib\n",
    "4. Seaborn"
   ]
  },
  {
   "cell_type": "markdown",
   "id": "24d33045-0a62-4382-86ff-e4e2f9f78226",
   "metadata": {},
   "source": [
    "|Data Science Tools|\n",
    "|------------------|\n",
    "|Jupiter Notebook|\n",
    "|RStudio|\n",
    "|Google Colab|"
   ]
  },
  {
   "cell_type": "markdown",
   "id": "87eaab2d-02c3-47dc-9ed1-3b26f2e8a344",
   "metadata": {},
   "source": [
    "### Below are a few examples of evaluating arithmetic expressions in Python"
   ]
  },
  {
   "cell_type": "code",
   "execution_count": 4,
   "id": "fbdb8077-dbc5-4b02-91bf-eefbe2b25744",
   "metadata": {},
   "outputs": [
    {
     "data": {
      "text/plain": [
       "17"
      ]
     },
     "execution_count": 4,
     "metadata": {},
     "output_type": "execute_result"
    }
   ],
   "source": [
    "# This is a simple arithmetic expression to multiply then add integers\n",
    "(3*4)+5"
   ]
  },
  {
   "cell_type": "code",
   "execution_count": 5,
   "id": "5a6e0879-4f82-4a24-93c3-6382124b0645",
   "metadata": {},
   "outputs": [
    {
     "name": "stdout",
     "output_type": "stream",
     "text": [
      "3.3333333333333335\n"
     ]
    }
   ],
   "source": [
    "# This will convert 200 minutes to hours by dividing by 60\n",
    "minutes=200\n",
    "hours=minutes/60\n",
    "print(hours)"
   ]
  },
  {
   "cell_type": "markdown",
   "id": "12a97582-a3f1-4837-8ecc-74af8e0f83d8",
   "metadata": {},
   "source": [
    "## Author\n",
    "Xinran Liu"
   ]
  },
  {
   "cell_type": "code",
   "execution_count": null,
   "id": "1680e8b8-0950-40c5-af78-dd08de86f624",
   "metadata": {},
   "outputs": [],
   "source": []
  }
 ],
 "metadata": {
  "kernelspec": {
   "display_name": "Python 3 (ipykernel)",
   "language": "python",
   "name": "python3"
  },
  "language_info": {
   "codemirror_mode": {
    "name": "ipython",
    "version": 3
   },
   "file_extension": ".py",
   "mimetype": "text/x-python",
   "name": "python",
   "nbconvert_exporter": "python",
   "pygments_lexer": "ipython3",
   "version": "3.12.8"
  }
 },
 "nbformat": 4,
 "nbformat_minor": 5
}
